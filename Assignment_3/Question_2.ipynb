{
 "cells": [
  {
   "cell_type": "code",
   "execution_count": 2,
   "id": "5cf69ebf",
   "metadata": {},
   "outputs": [
    {
     "data": {
      "text/plain": [
       "'\\nScript for solving the one dimensional Schroedinger equation numerically .\\nNumerical integration method used is the fourth order Runge Kutta .\\nCounts the nodes of the wave function and determins the harmonic .\\nThen refines the solution until proper energy is found .\\nPotentials :\\nInfinite Potential Well\\nV ( x_ <0) = inf , V ( x_ =0 ,1) = 0 , V ( x_ >1) = inf\\nHarmonic Oscillator :\\nV ( x_ ) = x_ **2\\nRadial Hydrogen Atom Coulomb attraction :\\nV ( r ) = 2/ r - ( L ( L +1))/( r **2) a . u .\\n'"
      ]
     },
     "execution_count": 2,
     "metadata": {},
     "output_type": "execute_result"
    }
   ],
   "source": [
    "\"\"\"\n",
    "Script for solving the one dimensional Schroedinger equation numerically .\n",
    "Numerical integration method used is the fourth order Runge Kutta .\n",
    "Counts the nodes of the wave function and determins the harmonic .\n",
    "Then refines the solution until proper energy is found .\n",
    "Potentials :\n",
    "Infinite Potential Well\n",
    "V ( x_ <0) = inf , V ( x_ =0 ,1) = 0 , V ( x_ >1) = inf\n",
    "Harmonic Oscillator :\n",
    "V ( x_ ) = x_ **2\n",
    "Radial Hydrogen Atom Coulomb attraction :\n",
    "V ( r ) = 2/ r - ( L ( L +1))/( r **2) a . u .\n",
    "\"\"\""
   ]
  },
  {
   "cell_type": "code",
   "execution_count": 3,
   "id": "85bc0c0e",
   "metadata": {},
   "outputs": [],
   "source": [
    "import numpy as np\n",
    "import scipy\n",
    "from scipy import integrate\n",
    "from scipy . optimize import newton\n",
    "import matplotlib . pyplot as plt"
   ]
  },
  {
   "cell_type": "code",
   "execution_count": 5,
   "id": "7bfc83ea",
   "metadata": {},
   "outputs": [],
   "source": [
    "def Schroed (y , r , V , E ):\n",
    "    \"\"\" Return one dim Schroedinger eqation with Potential V . \"\"\"\n",
    "    psi , phi = y\n",
    "    dphidx = [ phi , (V -E )* psi ]\n",
    "    return np . asarray ( dphidx )"
   ]
  },
  {
   "cell_type": "code",
   "execution_count": 7,
   "id": "589cff6d",
   "metadata": {},
   "outputs": [],
   "source": [
    "def rk4 (f , psi0 , x , V , E ):\n",
    "    \"\"\" Fourth - order Runge - Kutta method to solve phi ’= f ( psi , x ) with psi ( x [0])= psi0 .\n",
    "    Integrates function f with inital values psi0 and potenital V numerically .\n",
    "    Output is possible m u l t i d i m e n s i o n a l ( in psi ) array with len ( x ).\n",
    "    \"\"\"\n",
    "    n = len (x)\n",
    "    psi = np . array ([ psi0 ]* n)\n",
    "    for i in xrange (n - 1):\n",
    "        h = x [i +1] - x[i ]\n",
    "        k1 = h*f ( psi [ i], x[i] , V [i], E)\n",
    "        k2 = h*f ( psi [ i] + 0.5* k1 , x [i] + 0.5* h , V[ i], E)\n",
    "        k3 = h*f ( psi [ i] + 0.5* k2 , x [i] + 0.5* h , V[ i], E)\n",
    "        k4 = h*f ( psi [ i] + k3 , x[i +1] , V[i], E)\n",
    "        psi [i +1] = psi [i] + ( k1 + 2.0*( k2 + k3 ) + k4 ) / 6.0\n",
    "    return psi\n",
    "        "
   ]
  },
  {
   "cell_type": "code",
   "execution_count": 9,
   "id": "08f6f33c",
   "metadata": {},
   "outputs": [],
   "source": [
    "def shoot ( func , psi0 , x , V , E_arr ):\n",
    "    \"\"\" Shooting method : find zeroes of function func for energies in E_arr .\n",
    "    func : Schroedinger equation to solve .\n",
    "    psi0 : initial conditions on left side , can be array .\n",
    "    V : Potential to solve SE with .\n",
    "    E_arr : array of energy values : find possible zeroes .\n",
    "    \"\"\"\n",
    "    psi_rightb = []\n",
    "    for EN in E_arr:\n",
    "        psi = rk4 ( func , psi0 , x , V , EN )\n",
    "        psi_rightb . append ( psi [ len ( psi ) -1][0])\n",
    "    return np . asarray ( psi_rightb )"
   ]
  },
  {
   "cell_type": "code",
   "execution_count": 10,
   "id": "1a2e5b08",
   "metadata": {},
   "outputs": [],
   "source": [
    "def shoot_ode (E , psi_init , x , L ):\n",
    "    \"\"\" Helper function for optimizing resuts . \"\"\"\n",
    "    sol = integrate . odeint ( Schrod_deriv , psi_init , x , args =(L ,E ))\n",
    "    return sol [ len ( sol ) -1][0]"
   ]
  },
  {
   "cell_type": "code",
   "execution_count": 11,
   "id": "3b36125b",
   "metadata": {},
   "outputs": [],
   "source": [
    "def findZeros ( rightbound_vals ):\n",
    "    \"\"\" Find zero crossing due to sign change in r i g h t b o u n d _ v a l s array .\n",
    "     Return array with array indices before sign change occurs .\n",
    "    \"\"\"\n",
    "    return np . where ( np . diff ( np . signbit ( rightbound_vals )))[0]"
   ]
  },
  {
   "cell_type": "code",
   "execution_count": 13,
   "id": "f78a1993",
   "metadata": {},
   "outputs": [],
   "source": [
    "def optimizeEnergy ( func , psi0 , x , V , E_arr ):\n",
    "    \"\"\" Optimize energy value for function using brentq . \"\"\"\n",
    "    shoot_try = shoot ( func , psi0 , x , V , E_arr )\n",
    "    crossings = findZeros ( shoot_try )\n",
    "    energy_list = []\n",
    "    for cross in crossings:\n",
    "        energy_list . append ( newton ( shoot1 , E_arr [ cross ],args =( func , psi0 , x , V )))\n",
    "    return np . asarray ( energy_list )"
   ]
  },
  {
   "cell_type": "code",
   "execution_count": 14,
   "id": "3d5fbd9d",
   "metadata": {},
   "outputs": [],
   "source": [
    "def normalize ( output_wavefunc ):\n",
    "    \"\"\" A function to roughly normalize the wave function . \"\"\"\n",
    "    normal = max ( output_wavefunc )\n",
    "    return output_wavefunc *(1/ normal )"
   ]
  },
  {
   "cell_type": "code",
   "execution_count": 15,
   "id": "0cfa5acf",
   "metadata": {},
   "outputs": [],
   "source": [
    "def shoot_potwell ( psi_init , h_ ):\n",
    "    \"\"\" Shooting method for infinte potential well .\n",
    "    500 mesh points .\n",
    "    Returns the numerical and analytical solution as arrays .\n",
    "    \"\"\"\n",
    "    x_arr_ipw = np . arange (0.0 , 1.0+ h_ , h_ )\n",
    "    V_ipw = np . zeros ( len ( x_arr_ipw ))\n",
    "    E_arr = np . arange (1.0 , 100.0 , 5.0)\n",
    "    eigE = optimizeEnergy ( Schroed , psi_init , x_arr_ipw , V_ipw , E_arr )\n",
    "    ipw_out_list = []\n",
    "    for EE in eigE :\n",
    "        out = rk4 ( Schroed , psi_init , x_arr_ipw , V_ipw , EE )\n",
    "        ipw_out_list . append ( normalize ( out [: , 0]))\n",
    "        out_arr = np . asarray ( ipw_out_list )\n",
    "        # analytical solution for IPW\n",
    "        k = np . arange (1.0 , 4.0 , 1.0)\n",
    "        ipw_sol_ana = []\n",
    "        for kk in k:\n",
    "            ipw_sol_ana . append ( np . sin ( kk * np . pi * x_arr_ipw ))\n",
    "        ipw_sol_ana_arr = np . asarray ( ipw_sol_ana )\n",
    "        return x_arr_ipw , out_arr , ipw_sol_ana_arr"
   ]
  },
  {
   "cell_type": "code",
   "execution_count": 16,
   "id": "ca5aa587",
   "metadata": {},
   "outputs": [],
   "source": [
    "def shoot_QuantumHarmonicOscillator ( psi_init , h_ ):\n",
    "    \"\"\" Shooting method for quantum harmonic oscillator .\n",
    "    500 mesh points .\n",
    "    Returns the numerical and analytical solution as arrays .\n",
    "    \"\"\"\n",
    "    x_arr_qho = np . arange ( -5.0 , 5.0+ h_ , h_ )\n",
    "    V_qho = x_arr_qho **2\n",
    "    E_arr = np . arange (1.0 , 15.0 , 1.0)\n",
    "    eigEn = optimizeEnergy ( Schroed , psi_init , x_arr_qho , V_qho , E_arr )\n",
    "    qho_out_list = []\n",
    "    for EN in eigEn :\n",
    "        out = rk4 ( Schroed , psi_init , x_arr_qho , V_qho , EN )\n",
    "        qho_out_list . append ( normalize ( out [: , 0]))\n",
    "        qho_out_arr = np . asarray ( qho_out_list )\n",
    "        # analytical solution for QHO\n",
    "        qho_sol_ana_0 = np . exp ( -( x_arr_qho )**2/2)\n",
    "        qho_sol_ana_1 = np . sqrt (2.0)*( x_arr_qho )* np . exp ( -( x_arr_qho )**2/2)*( -1)\n",
    "        qho_sol_ana_2 = (1.0/ np . sqrt (2.0))*(2.0*( x_arr_qho )**2 -1.0)* np . exp ( -( x_arr_qho )**2/2)\n",
    "        qho_sol_list = []\n",
    "        qho_sol_list . append ( qho_sol_ana_0 )\n",
    "        qho_sol_list . append ( qho_sol_ana_1 )\n",
    "        qho_sol_list . append ( qho_sol_ana_2 )\n",
    "        return x_arr_qho , qho_out_arr , np . asarray ( qho_sol_list )"
   ]
  },
  {
   "cell_type": "code",
   "execution_count": 17,
   "id": "45ff9d9d",
   "metadata": {},
   "outputs": [],
   "source": [
    "def Schrod_deriv (y , r , L , E ):\n",
    "    \"\"\" Odeint calls routine to solve Schroedinger equation of the Hydrogen atom .\n",
    "    \"\"\"\n",
    "    du2 = y [0]*(( L *( L +1))/( r **2) - 2./ r - E )\n",
    "    return [y [1] , du2 ]"
   ]
  },
  {
   "cell_type": "code",
   "execution_count": 18,
   "id": "acfa9359",
   "metadata": {},
   "outputs": [],
   "source": [
    "def shoot_hydrogen ( psi_init , h_ , L ):\n",
    "    \"\"\" \"\"\"\n",
    "    x_arr_hydro = np . arange (0.0001 , 35.0+ h_ , h_ )\n",
    "    E_arr = np . arange ( -1. , 0. , 0.001)\n",
    "    rightb = []\n",
    "    for EE in E_arr :\n",
    "        psi = integrate . odeint ( Schrod_deriv , psi_init , x_arr_hydro , args =(L , EE ))[: , 0]  \n",
    "        rightb . append ( psi [ len ( psi ) -1])\n",
    "    rightb_arr = np . asarray ( rightb )\n",
    "    crossings = findZeros ( rightb_arr )\n",
    "    energy_l = []\n",
    "    for cross in crossings :\n",
    "        energy_l . append ( newton ( shoot_ode , E_arr [ cross ],args =( psi_init , x_arr_hydro , L )))\n",
    "        psi_out = []\n",
    "    for En in energy_l :\n",
    "        psi_out . append ( integrate . odeint ( Schrod_deriv , psi_init ,x_arr_hydro , args =(L , En ))[: , 0])\n",
    "    return x_arr_hydro , np . asarray ( psi_out )"
   ]
  },
  {
   "cell_type": "code",
   "execution_count": 20,
   "id": "2163b3f8",
   "metadata": {},
   "outputs": [],
   "source": [
    "def HYDRO_ana (x , N , L ):\n",
    "    \"\"\" Return analytical solution for Hydrogen SE . \"\"\"\n",
    "    # analytical solution hydrogen for N =1\n",
    "    if ((( N -L -1) == 0) and (L == 0)):\n",
    "        # return 2.0* np . exp ( - x /2)* x\n",
    "        return x* np . exp (-x)\n",
    "    elif ((( N -L -1) == 1) and (L == 0)):\n",
    "        return ( np . sqrt (2.)*( - x + 2.)* np . exp (-x /2.)/4.)* x\n",
    "    elif ((( N -L -1) == 2)):\n",
    "        return (2.* np . sqrt (3.)*(2.* x **2./9. - 2.* x + 3.)* np . exp ( -x /3.)/27.)* x\n",
    "    elif ((( N -L -1) == 0) and ( L == 1)):\n",
    "        return ( np . sqrt (6.)* x* np . exp ( -x /2.)/12.)* x\n",
    "    else :\n",
    "        print (\" No analytic wave function found . Please try again .\")\n",
    "        print (\" Output will be zero array .\")\n",
    "        return np . zeros ( len ( x ))"
   ]
  },
  {
   "cell_type": "code",
   "execution_count": 32,
   "id": "e5c94ae6",
   "metadata": {},
   "outputs": [],
   "source": [
    "def plot_wavefunction ( fig , title_string , x_arr , num_arr , ana_arr , axis_list ):\n",
    "    \n",
    "    \"\"\" Output plots for w av ef un ct io ns . \"\"\"\n",
    "     # clear plot\n",
    "    plt . cla () # clear axis\n",
    "    plt . clf () # clear figure\n",
    "    plt . plot ( x_arr , num_arr , 'b:', linewidth =4 ,\n",
    "    label =r\"$ \\ Psi (\\ hat { x }) _ { num } $\")\n",
    "    plt . plot ( x_arr , normalize ( ana_arr ), 'r-',\n",
    "    label =r\"$ \\ Psi (\\ hat { x }) _ { ana } $\")\n",
    "    plt . ylabel (r\"$\\Psi (\\ hat { x }) $\" , fontsize =16)\n",
    "    plt . xlabel (r\"$\\hat{ x}$\", fontsize =16)\n",
    "    plt . legend ( loc = 'best' , fontsize = 'small')\n",
    "    plt . axis ( axis_list )\n",
    "    plt . title ( title_string )\n",
    "    plt . grid ()\n",
    "#     fig . savefig (\" plots / wavefunc_ \" + title_string + \". png \")"
   ]
  },
  {
   "cell_type": "code",
   "execution_count": 33,
   "id": "b710f048",
   "metadata": {},
   "outputs": [
    {
     "ename": "NameError",
     "evalue": "name 'xrange' is not defined",
     "output_type": "error",
     "traceback": [
      "\u001b[0;31m---------------------------------------------------------------------------\u001b[0m",
      "\u001b[0;31mNameError\u001b[0m                                 Traceback (most recent call last)",
      "\u001b[0;32m/tmp/ipykernel_92349/1297454660.py\u001b[0m in \u001b[0;36m<module>\u001b[0;34m\u001b[0m\n\u001b[1;32m      5\u001b[0m \u001b[0mh_\u001b[0m \u001b[0;34m=\u001b[0m \u001b[0;36m1.0\u001b[0m\u001b[0;34m/\u001b[0m\u001b[0;36m200.0\u001b[0m \u001b[0;31m# stepsize for range arrays\u001b[0m\u001b[0;34m\u001b[0m\u001b[0;34m\u001b[0m\u001b[0m\n\u001b[1;32m      6\u001b[0m \u001b[0mfig\u001b[0m \u001b[0;34m=\u001b[0m \u001b[0mplt\u001b[0m \u001b[0;34m.\u001b[0m \u001b[0mfigure\u001b[0m \u001b[0;34m(\u001b[0m\u001b[0;34m)\u001b[0m\u001b[0;34m\u001b[0m\u001b[0;34m\u001b[0m\u001b[0m\n\u001b[0;32m----> 7\u001b[0;31m \u001b[0mipw_x\u001b[0m \u001b[0;34m,\u001b[0m \u001b[0mipw_num\u001b[0m \u001b[0;34m,\u001b[0m \u001b[0mipw_ana\u001b[0m \u001b[0;34m=\u001b[0m \u001b[0mshoot_potwell\u001b[0m \u001b[0;34m(\u001b[0m \u001b[0mpsi_init\u001b[0m \u001b[0;34m,\u001b[0m \u001b[0mh_\u001b[0m \u001b[0;34m,\u001b[0m\u001b[0;34m)\u001b[0m\u001b[0;34m\u001b[0m\u001b[0;34m\u001b[0m\u001b[0m\n\u001b[0m\u001b[1;32m      8\u001b[0m \u001b[0mqho_x\u001b[0m \u001b[0;34m,\u001b[0m \u001b[0mqho_num\u001b[0m \u001b[0;34m,\u001b[0m \u001b[0mqho_ana\u001b[0m \u001b[0;34m=\u001b[0m \u001b[0mshoot_QuantumHarmonicOscillator\u001b[0m \u001b[0;34m(\u001b[0m \u001b[0mpsi_init\u001b[0m \u001b[0;34m,\u001b[0m \u001b[0mh_\u001b[0m \u001b[0;34m)\u001b[0m\u001b[0;34m\u001b[0m\u001b[0;34m\u001b[0m\u001b[0m\n\u001b[1;32m      9\u001b[0m \u001b[0mhydro_x\u001b[0m \u001b[0;34m,\u001b[0m \u001b[0mhydro_num\u001b[0m \u001b[0;34m=\u001b[0m \u001b[0mshoot_hydrogen\u001b[0m \u001b[0;34m(\u001b[0m \u001b[0mpsi_init\u001b[0m \u001b[0;34m,\u001b[0m \u001b[0mh_\u001b[0m \u001b[0;34m,\u001b[0m \u001b[0;36m0\u001b[0m\u001b[0;34m)\u001b[0m\u001b[0;34m\u001b[0m\u001b[0;34m\u001b[0m\u001b[0m\n",
      "\u001b[0;32m/tmp/ipykernel_92349/3174543257.py\u001b[0m in \u001b[0;36mshoot_potwell\u001b[0;34m(psi_init, h_)\u001b[0m\n\u001b[1;32m      7\u001b[0m     \u001b[0mV_ipw\u001b[0m \u001b[0;34m=\u001b[0m \u001b[0mnp\u001b[0m \u001b[0;34m.\u001b[0m \u001b[0mzeros\u001b[0m \u001b[0;34m(\u001b[0m \u001b[0mlen\u001b[0m \u001b[0;34m(\u001b[0m \u001b[0mx_arr_ipw\u001b[0m \u001b[0;34m)\u001b[0m\u001b[0;34m)\u001b[0m\u001b[0;34m\u001b[0m\u001b[0;34m\u001b[0m\u001b[0m\n\u001b[1;32m      8\u001b[0m     \u001b[0mE_arr\u001b[0m \u001b[0;34m=\u001b[0m \u001b[0mnp\u001b[0m \u001b[0;34m.\u001b[0m \u001b[0marange\u001b[0m \u001b[0;34m(\u001b[0m\u001b[0;36m1.0\u001b[0m \u001b[0;34m,\u001b[0m \u001b[0;36m100.0\u001b[0m \u001b[0;34m,\u001b[0m \u001b[0;36m5.0\u001b[0m\u001b[0;34m)\u001b[0m\u001b[0;34m\u001b[0m\u001b[0;34m\u001b[0m\u001b[0m\n\u001b[0;32m----> 9\u001b[0;31m     \u001b[0meigE\u001b[0m \u001b[0;34m=\u001b[0m \u001b[0moptimizeEnergy\u001b[0m \u001b[0;34m(\u001b[0m \u001b[0mSchroed\u001b[0m \u001b[0;34m,\u001b[0m \u001b[0mpsi_init\u001b[0m \u001b[0;34m,\u001b[0m \u001b[0mx_arr_ipw\u001b[0m \u001b[0;34m,\u001b[0m \u001b[0mV_ipw\u001b[0m \u001b[0;34m,\u001b[0m \u001b[0mE_arr\u001b[0m \u001b[0;34m)\u001b[0m\u001b[0;34m\u001b[0m\u001b[0;34m\u001b[0m\u001b[0m\n\u001b[0m\u001b[1;32m     10\u001b[0m     \u001b[0mipw_out_list\u001b[0m \u001b[0;34m=\u001b[0m \u001b[0;34m[\u001b[0m\u001b[0;34m]\u001b[0m\u001b[0;34m\u001b[0m\u001b[0;34m\u001b[0m\u001b[0m\n\u001b[1;32m     11\u001b[0m     \u001b[0;32mfor\u001b[0m \u001b[0mEE\u001b[0m \u001b[0;32min\u001b[0m \u001b[0meigE\u001b[0m \u001b[0;34m:\u001b[0m\u001b[0;34m\u001b[0m\u001b[0;34m\u001b[0m\u001b[0m\n",
      "\u001b[0;32m/tmp/ipykernel_92349/3655526754.py\u001b[0m in \u001b[0;36moptimizeEnergy\u001b[0;34m(func, psi0, x, V, E_arr)\u001b[0m\n\u001b[1;32m      1\u001b[0m \u001b[0;32mdef\u001b[0m \u001b[0moptimizeEnergy\u001b[0m \u001b[0;34m(\u001b[0m \u001b[0mfunc\u001b[0m \u001b[0;34m,\u001b[0m \u001b[0mpsi0\u001b[0m \u001b[0;34m,\u001b[0m \u001b[0mx\u001b[0m \u001b[0;34m,\u001b[0m \u001b[0mV\u001b[0m \u001b[0;34m,\u001b[0m \u001b[0mE_arr\u001b[0m \u001b[0;34m)\u001b[0m\u001b[0;34m:\u001b[0m\u001b[0;34m\u001b[0m\u001b[0;34m\u001b[0m\u001b[0m\n\u001b[1;32m      2\u001b[0m     \u001b[0;34m\"\"\" Optimize energy value for function using brentq . \"\"\"\u001b[0m\u001b[0;34m\u001b[0m\u001b[0;34m\u001b[0m\u001b[0m\n\u001b[0;32m----> 3\u001b[0;31m     \u001b[0mshoot_try\u001b[0m \u001b[0;34m=\u001b[0m \u001b[0mshoot\u001b[0m \u001b[0;34m(\u001b[0m \u001b[0mfunc\u001b[0m \u001b[0;34m,\u001b[0m \u001b[0mpsi0\u001b[0m \u001b[0;34m,\u001b[0m \u001b[0mx\u001b[0m \u001b[0;34m,\u001b[0m \u001b[0mV\u001b[0m \u001b[0;34m,\u001b[0m \u001b[0mE_arr\u001b[0m \u001b[0;34m)\u001b[0m\u001b[0;34m\u001b[0m\u001b[0;34m\u001b[0m\u001b[0m\n\u001b[0m\u001b[1;32m      4\u001b[0m     \u001b[0mcrossings\u001b[0m \u001b[0;34m=\u001b[0m \u001b[0mfindZeros\u001b[0m \u001b[0;34m(\u001b[0m \u001b[0mshoot_try\u001b[0m \u001b[0;34m)\u001b[0m\u001b[0;34m\u001b[0m\u001b[0;34m\u001b[0m\u001b[0m\n\u001b[1;32m      5\u001b[0m     \u001b[0menergy_list\u001b[0m \u001b[0;34m=\u001b[0m \u001b[0;34m[\u001b[0m\u001b[0;34m]\u001b[0m\u001b[0;34m\u001b[0m\u001b[0;34m\u001b[0m\u001b[0m\n",
      "\u001b[0;32m/tmp/ipykernel_92349/1464817399.py\u001b[0m in \u001b[0;36mshoot\u001b[0;34m(func, psi0, x, V, E_arr)\u001b[0m\n\u001b[1;32m      8\u001b[0m     \u001b[0mpsi_rightb\u001b[0m \u001b[0;34m=\u001b[0m \u001b[0;34m[\u001b[0m\u001b[0;34m]\u001b[0m\u001b[0;34m\u001b[0m\u001b[0;34m\u001b[0m\u001b[0m\n\u001b[1;32m      9\u001b[0m     \u001b[0;32mfor\u001b[0m \u001b[0mEN\u001b[0m \u001b[0;32min\u001b[0m \u001b[0mE_arr\u001b[0m\u001b[0;34m:\u001b[0m\u001b[0;34m\u001b[0m\u001b[0;34m\u001b[0m\u001b[0m\n\u001b[0;32m---> 10\u001b[0;31m         \u001b[0mpsi\u001b[0m \u001b[0;34m=\u001b[0m \u001b[0mrk4\u001b[0m \u001b[0;34m(\u001b[0m \u001b[0mfunc\u001b[0m \u001b[0;34m,\u001b[0m \u001b[0mpsi0\u001b[0m \u001b[0;34m,\u001b[0m \u001b[0mx\u001b[0m \u001b[0;34m,\u001b[0m \u001b[0mV\u001b[0m \u001b[0;34m,\u001b[0m \u001b[0mEN\u001b[0m \u001b[0;34m)\u001b[0m\u001b[0;34m\u001b[0m\u001b[0;34m\u001b[0m\u001b[0m\n\u001b[0m\u001b[1;32m     11\u001b[0m         \u001b[0mpsi_rightb\u001b[0m \u001b[0;34m.\u001b[0m \u001b[0mappend\u001b[0m \u001b[0;34m(\u001b[0m \u001b[0mpsi\u001b[0m \u001b[0;34m[\u001b[0m \u001b[0mlen\u001b[0m \u001b[0;34m(\u001b[0m \u001b[0mpsi\u001b[0m \u001b[0;34m)\u001b[0m \u001b[0;34m-\u001b[0m\u001b[0;36m1\u001b[0m\u001b[0;34m]\u001b[0m\u001b[0;34m[\u001b[0m\u001b[0;36m0\u001b[0m\u001b[0;34m]\u001b[0m\u001b[0;34m)\u001b[0m\u001b[0;34m\u001b[0m\u001b[0;34m\u001b[0m\u001b[0m\n\u001b[1;32m     12\u001b[0m     \u001b[0;32mreturn\u001b[0m \u001b[0mnp\u001b[0m \u001b[0;34m.\u001b[0m \u001b[0masarray\u001b[0m \u001b[0;34m(\u001b[0m \u001b[0mpsi_rightb\u001b[0m \u001b[0;34m)\u001b[0m\u001b[0;34m\u001b[0m\u001b[0;34m\u001b[0m\u001b[0m\n",
      "\u001b[0;32m/tmp/ipykernel_92349/3788798530.py\u001b[0m in \u001b[0;36mrk4\u001b[0;34m(f, psi0, x, V, E)\u001b[0m\n\u001b[1;32m      6\u001b[0m     \u001b[0mn\u001b[0m \u001b[0;34m=\u001b[0m \u001b[0mlen\u001b[0m \u001b[0;34m(\u001b[0m\u001b[0mx\u001b[0m\u001b[0;34m)\u001b[0m\u001b[0;34m\u001b[0m\u001b[0;34m\u001b[0m\u001b[0m\n\u001b[1;32m      7\u001b[0m     \u001b[0mpsi\u001b[0m \u001b[0;34m=\u001b[0m \u001b[0mnp\u001b[0m \u001b[0;34m.\u001b[0m \u001b[0marray\u001b[0m \u001b[0;34m(\u001b[0m\u001b[0;34m[\u001b[0m \u001b[0mpsi0\u001b[0m \u001b[0;34m]\u001b[0m\u001b[0;34m*\u001b[0m \u001b[0mn\u001b[0m\u001b[0;34m)\u001b[0m\u001b[0;34m\u001b[0m\u001b[0;34m\u001b[0m\u001b[0m\n\u001b[0;32m----> 8\u001b[0;31m     \u001b[0;32mfor\u001b[0m \u001b[0mi\u001b[0m \u001b[0;32min\u001b[0m \u001b[0mxrange\u001b[0m \u001b[0;34m(\u001b[0m\u001b[0mn\u001b[0m \u001b[0;34m-\u001b[0m \u001b[0;36m1\u001b[0m\u001b[0;34m)\u001b[0m\u001b[0;34m:\u001b[0m\u001b[0;34m\u001b[0m\u001b[0;34m\u001b[0m\u001b[0m\n\u001b[0m\u001b[1;32m      9\u001b[0m         \u001b[0mh\u001b[0m \u001b[0;34m=\u001b[0m \u001b[0mx\u001b[0m \u001b[0;34m[\u001b[0m\u001b[0mi\u001b[0m \u001b[0;34m+\u001b[0m\u001b[0;36m1\u001b[0m\u001b[0;34m]\u001b[0m \u001b[0;34m-\u001b[0m \u001b[0mx\u001b[0m\u001b[0;34m[\u001b[0m\u001b[0mi\u001b[0m \u001b[0;34m]\u001b[0m\u001b[0;34m\u001b[0m\u001b[0;34m\u001b[0m\u001b[0m\n\u001b[1;32m     10\u001b[0m         \u001b[0mk1\u001b[0m \u001b[0;34m=\u001b[0m \u001b[0mh\u001b[0m\u001b[0;34m*\u001b[0m\u001b[0mf\u001b[0m \u001b[0;34m(\u001b[0m \u001b[0mpsi\u001b[0m \u001b[0;34m[\u001b[0m \u001b[0mi\u001b[0m\u001b[0;34m]\u001b[0m\u001b[0;34m,\u001b[0m \u001b[0mx\u001b[0m\u001b[0;34m[\u001b[0m\u001b[0mi\u001b[0m\u001b[0;34m]\u001b[0m \u001b[0;34m,\u001b[0m \u001b[0mV\u001b[0m \u001b[0;34m[\u001b[0m\u001b[0mi\u001b[0m\u001b[0;34m]\u001b[0m\u001b[0;34m,\u001b[0m \u001b[0mE\u001b[0m\u001b[0;34m)\u001b[0m\u001b[0;34m\u001b[0m\u001b[0;34m\u001b[0m\u001b[0m\n",
      "\u001b[0;31mNameError\u001b[0m: name 'xrange' is not defined"
     ]
    },
    {
     "data": {
      "text/plain": [
       "<Figure size 432x288 with 0 Axes>"
      ]
     },
     "metadata": {},
     "output_type": "display_data"
    }
   ],
   "source": [
    "# Initial conditions for pot . well and harmonic osc\n",
    "psi_0 = 0.0\n",
    "phi_0 = 1.0\n",
    "psi_init = np.asarray ([ psi_0 , phi_0 ])\n",
    "h_ = 1.0/200.0 # stepsize for range arrays\n",
    "fig = plt . figure ()\n",
    "ipw_x , ipw_num , ipw_ana = shoot_potwell ( psi_init , h_ ,)\n",
    "qho_x , qho_num , qho_ana = shoot_QuantumHarmonicOscillator ( psi_init , h_ )\n",
    "hydro_x , hydro_num = shoot_hydrogen ( psi_init , h_ , 0)\n",
    "hydro_x2p , hydro_num2p = shoot_hydrogen ( psi_init , h_ , 1)\n",
    "hydro_ana1s = HYDRO_ana ( hydro_x , 1, 0)\n",
    "hydro_ana2s = HYDRO_ana ( hydro_x , 2, 0)\n",
    "hydro_ana3s = HYDRO_ana ( hydro_x , 3, 0)\n",
    "# print hydro_num\n",
    "hydro_ana2p = HYDRO_ana ( hydro_x , 2, 1)"
   ]
  },
  {
   "cell_type": "code",
   "execution_count": 36,
   "id": "31ddf559",
   "metadata": {},
   "outputs": [
    {
     "name": "stdout",
     "output_type": "stream",
     "text": [
      " IPW shooting \n"
     ]
    },
    {
     "ename": "NameError",
     "evalue": "name 'ipw_x' is not defined",
     "output_type": "error",
     "traceback": [
      "\u001b[0;31m---------------------------------------------------------------------------\u001b[0m",
      "\u001b[0;31mNameError\u001b[0m                                 Traceback (most recent call last)",
      "\u001b[0;32m/tmp/ipykernel_92349/4171240771.py\u001b[0m in \u001b[0;36m<module>\u001b[0;34m\u001b[0m\n\u001b[1;32m      1\u001b[0m \u001b[0mprint\u001b[0m \u001b[0;34m(\u001b[0m\u001b[0;34m\" IPW shooting \"\u001b[0m\u001b[0;34m)\u001b[0m\u001b[0;34m\u001b[0m\u001b[0;34m\u001b[0m\u001b[0m\n\u001b[0;32m----> 2\u001b[0;31m \u001b[0mplot_wavefunction\u001b[0m\u001b[0;34m(\u001b[0m \u001b[0mfig\u001b[0m \u001b[0;34m,\u001b[0m \u001b[0;34m\" Infinte Potential Well -- Ground State \"\u001b[0m \u001b[0;34m,\u001b[0m\u001b[0mipw_x\u001b[0m \u001b[0;34m,\u001b[0m \u001b[0mipw_num\u001b[0m \u001b[0;34m[\u001b[0m\u001b[0;36m0\u001b[0m \u001b[0;34m,\u001b[0m \u001b[0;34m:\u001b[0m\u001b[0;34m]\u001b[0m \u001b[0;34m,\u001b[0m \u001b[0mipw_ana\u001b[0m \u001b[0;34m[\u001b[0m\u001b[0;36m0\u001b[0m \u001b[0;34m,\u001b[0m \u001b[0;34m:\u001b[0m\u001b[0;34m]\u001b[0m \u001b[0;34m,\u001b[0m \u001b[0;34m[\u001b[0m \u001b[0;34m-\u001b[0m\u001b[0;36m0.1\u001b[0m \u001b[0;34m,\u001b[0m \u001b[0;36m1.1\u001b[0m \u001b[0;34m,\u001b[0m \u001b[0;34m-\u001b[0m\u001b[0;36m0.2\u001b[0m \u001b[0;34m,\u001b[0m \u001b[0;36m1.2\u001b[0m\u001b[0;34m]\u001b[0m\u001b[0;34m)\u001b[0m\u001b[0;34m\u001b[0m\u001b[0;34m\u001b[0m\u001b[0m\n\u001b[0m\u001b[1;32m      3\u001b[0m \u001b[0mplot_wavefunction\u001b[0m \u001b[0;34m(\u001b[0m \u001b[0mfig\u001b[0m \u001b[0;34m,\u001b[0m \u001b[0;34m\" Infinte Potential Well -- First Excited State \"\u001b[0m\u001b[0;34m,\u001b[0m\u001b[0mipw_x\u001b[0m \u001b[0;34m,\u001b[0m \u001b[0mipw_num\u001b[0m \u001b[0;34m[\u001b[0m\u001b[0;36m1\u001b[0m \u001b[0;34m,\u001b[0m \u001b[0;34m:\u001b[0m\u001b[0;34m]\u001b[0m \u001b[0;34m,\u001b[0m \u001b[0mipw_ana\u001b[0m \u001b[0;34m[\u001b[0m\u001b[0;36m1\u001b[0m \u001b[0;34m,\u001b[0m \u001b[0;34m:\u001b[0m\u001b[0;34m]\u001b[0m \u001b[0;34m,\u001b[0m \u001b[0;34m[\u001b[0m \u001b[0;34m-\u001b[0m\u001b[0;36m0.1\u001b[0m \u001b[0;34m,\u001b[0m \u001b[0;36m1.1\u001b[0m \u001b[0;34m,\u001b[0m \u001b[0;34m-\u001b[0m\u001b[0;36m1.2\u001b[0m \u001b[0;34m,\u001b[0m \u001b[0;36m1.2\u001b[0m\u001b[0;34m]\u001b[0m\u001b[0;34m)\u001b[0m\u001b[0;34m\u001b[0m\u001b[0;34m\u001b[0m\u001b[0m\n\u001b[1;32m      4\u001b[0m \u001b[0mplot_wavefunction\u001b[0m \u001b[0;34m(\u001b[0m \u001b[0mfig\u001b[0m \u001b[0;34m,\u001b[0m \u001b[0;34m\" Infinte Potential Well -- Second Excited State \"\u001b[0m\u001b[0;34m,\u001b[0m\u001b[0mipw_x\u001b[0m \u001b[0;34m,\u001b[0m \u001b[0mipw_num\u001b[0m \u001b[0;34m[\u001b[0m\u001b[0;36m2\u001b[0m \u001b[0;34m,\u001b[0m \u001b[0;34m:\u001b[0m\u001b[0;34m]\u001b[0m \u001b[0;34m,\u001b[0m \u001b[0mipw_ana\u001b[0m \u001b[0;34m[\u001b[0m\u001b[0;36m2\u001b[0m \u001b[0;34m,\u001b[0m \u001b[0;34m:\u001b[0m\u001b[0;34m]\u001b[0m \u001b[0;34m,\u001b[0m \u001b[0;34m[\u001b[0m \u001b[0;34m-\u001b[0m\u001b[0;36m0.1\u001b[0m \u001b[0;34m,\u001b[0m \u001b[0;36m1.1\u001b[0m \u001b[0;34m,\u001b[0m \u001b[0;34m-\u001b[0m\u001b[0;36m1.2\u001b[0m \u001b[0;34m,\u001b[0m \u001b[0;36m1.2\u001b[0m\u001b[0;34m]\u001b[0m\u001b[0;34m)\u001b[0m\u001b[0;34m\u001b[0m\u001b[0;34m\u001b[0m\u001b[0m\n\u001b[1;32m      5\u001b[0m \u001b[0mprint\u001b[0m \u001b[0;34m(\u001b[0m\u001b[0;34m\" QHO shooting \"\u001b[0m\u001b[0;34m)\u001b[0m\u001b[0;34m\u001b[0m\u001b[0;34m\u001b[0m\u001b[0m\n",
      "\u001b[0;31mNameError\u001b[0m: name 'ipw_x' is not defined"
     ]
    }
   ],
   "source": [
    "print (\" IPW shooting \")\n",
    "plot_wavefunction( fig , \" Infinte Potential Well -- Ground State \" ,ipw_x , ipw_num [0 , :] , ipw_ana [0 , :] , [ -0.1 , 1.1 , -0.2 , 1.2])\n",
    "plot_wavefunction ( fig , \" Infinte Potential Well -- First Excited State \",ipw_x , ipw_num [1 , :] , ipw_ana [1 , :] , [ -0.1 , 1.1 , -1.2 , 1.2])\n",
    "plot_wavefunction ( fig , \" Infinte Potential Well -- Second Excited State \",ipw_x , ipw_num [2 , :] , ipw_ana [2 , :] , [ -0.1 , 1.1 , -1.2 , 1.2])\n",
    "print (\" QHO shooting \")\n",
    "plot_wavefunction ( fig , \" Quantum Hamonic Oscillator -- Ground State \",qho_x , qho_num [0 , :] , qho_ana [0 , :] , [ -5.2 , 5.2 , -1.2 , 1.2])\n",
    "plot_wavefunction ( fig , \" Quantum Hamonic Oscillator -- First Excited State \",qho_x , qho_num [1 , :] , qho_ana [1 , :] , [ -5.2 , 5.2 , -1.2 , 1.2])\n",
    "plot_wavefunction ( fig , \" Quantum Hamonic Oscillator -- Second Excited State \",qho_x , qho_num [2 , :] , qho_ana [2 , :] , [ -5.2 , 5.2 , -1.2 , 1.2])\n",
    "print (\" Hydrogen Atom shooting \")\n",
    "plot_wavefunction ( fig , \" Hydrogen Atom -- 1s State \" ,hydro_x , normalize ( hydro_num [0 , :]) , hydro_ana1s , [ -0.1 , 30. , -0.1 , 1.2])\n",
    "plot_wavefunction ( fig , \" Hydrogen Atom -- 2s State \" ,\n",
    "hydro_x , normalize ( hydro_num [1 , :]) , hydro_ana2s , [ -0.1 , 30. , -2.2 , 1.2])\n",
    "plot_wavefunction ( fig , \" Hydrogen Atom -- 2p State \" ,\n",
    "hydro_x2p , normalize ( hydro_num2p [0 , :]) , hydro_ana2p , [ -0.1 , 30. , -0.1 , 1.2])\n",
    "plot_wavefunction ( fig , \" Hydrogen Atom -- 3s State \" ,\n",
    "hydro_x , normalize ( hydro_num [2 , :]) , hydro_ana3s , [ -0.1 , 30. , -1.2 , 1.2])"
   ]
  },
  {
   "cell_type": "markdown",
   "id": "81f13dc5",
   "metadata": {},
   "source": [
    "https://www.iue.tuwien.ac.at/uploads/tx_sbdownloader/Bachelor-Arbeit_Marie_ERTL_09-2016.pdf"
   ]
  },
  {
   "cell_type": "markdown",
   "id": "fd5afc53",
   "metadata": {},
   "source": [
    "https://physics.unm.edu/Courses/Fields/Phys491/Notes/TISEInfiniteSquare.pdf\n",
    "    http://faculty.otterbein.edu/DRobertson/compsci/tise-stud.pdf\n",
    "        http://faculty.otterbein.edu/DRobertson/compsci/tise-inst.pdf"
   ]
  },
  {
   "cell_type": "code",
   "execution_count": null,
   "id": "5f72d9e2",
   "metadata": {},
   "outputs": [],
   "source": []
  }
 ],
 "metadata": {
  "kernelspec": {
   "display_name": "Python 3 (ipykernel)",
   "language": "python",
   "name": "python3"
  },
  "language_info": {
   "codemirror_mode": {
    "name": "ipython",
    "version": 3
   },
   "file_extension": ".py",
   "mimetype": "text/x-python",
   "name": "python",
   "nbconvert_exporter": "python",
   "pygments_lexer": "ipython3",
   "version": "3.9.7"
  }
 },
 "nbformat": 4,
 "nbformat_minor": 5
}
